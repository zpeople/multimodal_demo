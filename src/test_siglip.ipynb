{
 "cells": [
  {
   "cell_type": "code",
   "execution_count": 4,
   "id": "a655cea1",
   "metadata": {},
   "outputs": [],
   "source": [
    "from PIL import Image\n",
    "import requests\n",
    "from transformers import AutoProcessor, AutoModel,AutoImageProcessor\n",
    "import torch\n",
    "\n",
    "model_path =\"/root/autodl-tmp/model/google/siglip-base-patch16-256\""
   ]
  },
  {
   "cell_type": "code",
   "execution_count": null,
   "id": "9a84d4b4",
   "metadata": {},
   "outputs": [
    {
     "name": "stderr",
     "output_type": "stream",
     "text": [
      "Using a slow image processor as `use_fast` is unset and a slow processor was saved with this model. `use_fast=True` will be the default behavior in v4.52, even if the model was saved with a slow processor. This will result in minor differences in outputs. You'll still be able to use a slow processor with `use_fast=False`.\n"
     ]
    },
    {
     "name": "stdout",
     "output_type": "stream",
     "text": [
      "35.6% that image 0 is 'a photo of 2 cats'\n"
     ]
    }
   ],
   "source": [
    "model = AutoModel.from_pretrained(model_path)\n",
    "processor = AutoProcessor.from_pretrained(model_path)\n",
    "\n",
    "url = \"http://images.cocodataset.org/val2017/000000039769.jpg\"\n",
    "image = Image.open(requests.get(url, stream=True).raw)\n",
    "\n",
    "texts = [\"a photo of 2 cats\", \"a photo of 2 dogs\"]\n",
    "inputs = processor(text=texts, images=image, padding=\"max_length\", return_tensors=\"pt\")\n",
    "\n",
    "with torch.no_grad():\n",
    "    outputs = model(**inputs)\n",
    "\n",
    "logits_per_image = outputs.logits_per_image\n",
    "probs = torch.sigmoid(logits_per_image) # these are the probabilities\n",
    "print(f\"{probs[0][0]:.1%} that image 0 is '{texts[0]}'\")\n"
   ]
  },
  {
   "cell_type": "code",
   "execution_count": null,
   "id": "dd12ce20",
   "metadata": {},
   "outputs": [
    {
     "name": "stdout",
     "output_type": "stream",
     "text": [
      "预处理输出键值: KeysView({'pixel_values': tensor([[[[ 0.1059,  0.1608,  0.1922,  ..., -0.1765, -0.1922, -0.1922],\n",
      "          [ 0.1294,  0.1686,  0.1686,  ..., -0.2000, -0.1922, -0.2078],\n",
      "          [ 0.1137,  0.1608,  0.1686,  ..., -0.2471, -0.2157, -0.2235],\n",
      "          ...,\n",
      "          [ 0.8431,  0.8118,  0.7412,  ...,  0.6627,  0.6078,  0.6157],\n",
      "          [ 0.8196,  0.7961,  0.7804,  ...,  0.5059,  0.4118,  0.3255],\n",
      "          [ 0.8510,  0.7490,  0.7647,  ..., -0.0902, -0.1922, -0.3176]],\n",
      "\n",
      "         [[-0.8118, -0.8196, -0.8118,  ..., -0.8902, -0.9059, -0.8980],\n",
      "          [-0.7804, -0.7882, -0.8039,  ..., -0.8824, -0.8745, -0.8902],\n",
      "          [-0.8039, -0.7961, -0.7882,  ..., -0.8902, -0.8824, -0.8902],\n",
      "          ...,\n",
      "          [-0.2471, -0.2863, -0.3412,  ..., -0.4353, -0.4745, -0.4667],\n",
      "          [-0.2784, -0.2863, -0.3333,  ..., -0.5294, -0.5765, -0.6235],\n",
      "          [-0.2627, -0.3490, -0.3412,  ..., -0.8039, -0.8353, -0.8824]],\n",
      "\n",
      "         [[-0.5529, -0.4588, -0.4510,  ..., -0.7176, -0.6941, -0.7098],\n",
      "          [-0.5765, -0.5216, -0.5216,  ..., -0.7333, -0.6941, -0.7412],\n",
      "          [-0.5373, -0.4824, -0.4745,  ..., -0.7569, -0.7412, -0.7725],\n",
      "          ...,\n",
      "          [ 0.5608,  0.5294,  0.4039,  ...,  0.4431,  0.3882,  0.3255],\n",
      "          [ 0.5608,  0.4980,  0.5137,  ...,  0.2157,  0.1216,  0.0510],\n",
      "          [ 0.5765,  0.5765,  0.5451,  ..., -0.4039, -0.5922, -0.6471]]]])})\n",
      "图像张量形状: torch.Size([1, 3, 256, 256])\n"
     ]
    },
    {
     "name": "stderr",
     "output_type": "stream",
     "text": [
      "/root/miniconda3/envs/ml/lib/python3.10/site-packages/transformers/image_processing_utils.py:51: UserWarning: The following named arguments are not valid for `SiglipImageProcessor.preprocess` and were ignored: 'padding', 'truncation'\n",
      "  return self.preprocess(images, **kwargs)\n"
     ]
    }
   ],
   "source": [
    "\n",
    "\n",
    "\n",
    "processor = AutoImageProcessor.from_pretrained(model_path)  \n",
    "model = AutoModel.from_pretrained(model_path)\n",
    "\n",
    "\n",
    "url = \"http://images.cocodataset.org/val2017/000000039769.jpg\"\n",
    "image = Image.open(requests.get(url, stream=True).raw).convert(\"RGB\")  \n",
    "\n",
    "# 预处理图像\n",
    "inputs = processor(\n",
    "    images=image,  # 可以是单张图像或图像列表（批次处理）\n",
    "    return_tensors=\"pt\",  \n",
    "    padding=True,  # 批次处理时自动填充\n",
    "    truncation=False  # 图像通常不截断，而是缩放\n",
    ")\n",
    "\n",
    "# 查看预处理结果：包含像素值张量（pixel_values）等\n",
    "print(\"预处理输出键值:\", inputs.keys())  # 通常包含 'pixel_values'\n",
    "print(\"图像张量形状:\", inputs[\"pixel_values\"].shape)  # 例如：[1, 3, 256, 256]（批次大小1，3通道，256x256）\n",
    "\n",
    "# 4. 输入模型获取特征\n",
    "with torch.no_grad():\n",
    "    outputs = model.vision_model(**inputs)\n",
    "image_features = outputs.last_hidden_state[:, 0, :]  # 提取[CLS]标记的特征"
   ]
  },
  {
   "cell_type": "code",
   "execution_count": null,
   "id": "0ae8c694",
   "metadata": {},
   "outputs": [],
   "source": [
    "from transformers import SiglipConfig\n",
    "\n",
    "config = SiglipConfig.from_pretrained(model_path)\n",
    "print(config)  # 打印所有配置参数"
   ]
  },
  {
   "cell_type": "code",
   "execution_count": null,
   "id": "bae20026",
   "metadata": {},
   "outputs": [],
   "source": []
  }
 ],
 "metadata": {
  "kernelspec": {
   "display_name": "ml",
   "language": "python",
   "name": "python3"
  },
  "language_info": {
   "codemirror_mode": {
    "name": "ipython",
    "version": 3
   },
   "file_extension": ".py",
   "mimetype": "text/x-python",
   "name": "python",
   "nbconvert_exporter": "python",
   "pygments_lexer": "ipython3",
   "version": "3.10.18"
  }
 },
 "nbformat": 4,
 "nbformat_minor": 5
}
